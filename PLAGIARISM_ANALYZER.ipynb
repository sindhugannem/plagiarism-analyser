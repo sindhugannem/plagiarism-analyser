{
 "cells": [
  {
   "cell_type": "code",
   "execution_count": 3,
   "id": "10dddd04",
   "metadata": {},
   "outputs": [
    {
     "name": "stdout",
     "output_type": "stream",
     "text": [
      "The plagiarized content is 21.54%\n"
     ]
    }
   ],
   "source": [
    "\n",
    "from difflib import SequenceMatcher\n",
    "\n",
    "with open('charminar1.txt') as one_file, open('charminar2.txt') as two_file:\n",
    "    data_file1 = one_file.read()\n",
    "    data_file2 = two_file.read()\n",
    "    matches = SequenceMatcher(None, data_file1, data_file2).ratio()\n",
    "    print(f\"The plagiarized content is {matches * 100:.2f}%\")\n",
    "\n"
   ]
  },
  {
   "cell_type": "code",
   "execution_count": null,
   "id": "cb369916",
   "metadata": {},
   "outputs": [],
   "source": []
  },
  {
   "cell_type": "code",
   "execution_count": null,
   "id": "2e987f70",
   "metadata": {},
   "outputs": [],
   "source": []
  }
 ],
 "metadata": {
  "kernelspec": {
   "display_name": "Python 3 (ipykernel)",
   "language": "python",
   "name": "python3"
  },
  "language_info": {
   "codemirror_mode": {
    "name": "ipython",
    "version": 3
   },
   "file_extension": ".py",
   "mimetype": "text/x-python",
   "name": "python",
   "nbconvert_exporter": "python",
   "pygments_lexer": "ipython3",
   "version": "3.11.5"
  }
 },
 "nbformat": 4,
 "nbformat_minor": 5
}
